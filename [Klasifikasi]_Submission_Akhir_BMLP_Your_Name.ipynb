{
  "cells": [
    {
      "cell_type": "markdown",
      "metadata": {
        "id": "fKADPWcFKlj3"
      },
      "source": [
        "# **1. Import Library**"
      ]
    },
    {
      "cell_type": "markdown",
      "metadata": {
        "id": "LgA3ERnVn84N"
      },
      "source": [
        "Pada tahap ini, Anda perlu mengimpor beberapa pustaka (library) Python yang dibutuhkan untuk analisis data dan pembangunan model machine learning."
      ]
    },
    {
      "cell_type": "code",
      "execution_count": 1,
      "metadata": {
        "id": "BlmvjLY9M4Yj"
      },
      "outputs": [],
      "source": [
        "import pandas as pd\n",
        "import numpy as np\n",
        "import seaborn as sns\n",
        "import matplotlib.pyplot as plt\n",
        "\n",
        "from sklearn.preprocessing import OneHotEncoder, StandardScaler\n",
        "from sklearn.cluster import KMeans\n",
        "from sklearn.metrics import silhouette_score"
      ]
    },
    {
      "cell_type": "markdown",
      "metadata": {
        "id": "f3YIEnAFKrKL"
      },
      "source": [
        "# **2. Memuat Dataset dari Hasil Clustering**"
      ]
    },
    {
      "cell_type": "markdown",
      "metadata": {
        "id": "Ey3ItwTen_7E"
      },
      "source": [
        "Memuat dataset hasil clustering dari file CSV ke dalam variabel DataFrame."
      ]
    },
    {
      "cell_type": "code",
      "execution_count": 3,
      "metadata": {
        "id": "GHCGNTyrM5fS"
      },
      "outputs": [
        {
          "data": {
            "text/html": [
              "<div>\n",
              "<style scoped>\n",
              "    .dataframe tbody tr th:only-of-type {\n",
              "        vertical-align: middle;\n",
              "    }\n",
              "\n",
              "    .dataframe tbody tr th {\n",
              "        vertical-align: top;\n",
              "    }\n",
              "\n",
              "    .dataframe thead th {\n",
              "        text-align: right;\n",
              "    }\n",
              "</style>\n",
              "<table border=\"1\" class=\"dataframe\">\n",
              "  <thead>\n",
              "    <tr style=\"text-align: right;\">\n",
              "      <th></th>\n",
              "      <th>Student_ID</th>\n",
              "      <th>First_Name</th>\n",
              "      <th>Last_Name</th>\n",
              "      <th>Email</th>\n",
              "      <th>Gender</th>\n",
              "      <th>Age</th>\n",
              "      <th>Department</th>\n",
              "      <th>Attendance (%)</th>\n",
              "      <th>Midterm_Score</th>\n",
              "      <th>Final_Score</th>\n",
              "      <th>...</th>\n",
              "      <th>Projects_Score</th>\n",
              "      <th>Total_Score</th>\n",
              "      <th>Grade</th>\n",
              "      <th>Study_Hours_per_Week</th>\n",
              "      <th>Extracurricular_Activities</th>\n",
              "      <th>Internet_Access_at_Home</th>\n",
              "      <th>Parent_Education_Level</th>\n",
              "      <th>Family_Income_Level</th>\n",
              "      <th>Stress_Level (1-10)</th>\n",
              "      <th>Sleep_Hours_per_Night</th>\n",
              "    </tr>\n",
              "  </thead>\n",
              "  <tbody>\n",
              "    <tr>\n",
              "      <th>0</th>\n",
              "      <td>S1000</td>\n",
              "      <td>Omar</td>\n",
              "      <td>Williams</td>\n",
              "      <td>student0@university.com</td>\n",
              "      <td>Female</td>\n",
              "      <td>22</td>\n",
              "      <td>Engineering</td>\n",
              "      <td>52.29</td>\n",
              "      <td>55.03</td>\n",
              "      <td>57.82</td>\n",
              "      <td>...</td>\n",
              "      <td>85.90</td>\n",
              "      <td>56.09</td>\n",
              "      <td>F</td>\n",
              "      <td>6.2</td>\n",
              "      <td>No</td>\n",
              "      <td>Yes</td>\n",
              "      <td>High School</td>\n",
              "      <td>Medium</td>\n",
              "      <td>5</td>\n",
              "      <td>4.7</td>\n",
              "    </tr>\n",
              "    <tr>\n",
              "      <th>1</th>\n",
              "      <td>S1001</td>\n",
              "      <td>Maria</td>\n",
              "      <td>Brown</td>\n",
              "      <td>student1@university.com</td>\n",
              "      <td>Male</td>\n",
              "      <td>18</td>\n",
              "      <td>Engineering</td>\n",
              "      <td>97.27</td>\n",
              "      <td>97.23</td>\n",
              "      <td>45.80</td>\n",
              "      <td>...</td>\n",
              "      <td>55.65</td>\n",
              "      <td>50.64</td>\n",
              "      <td>A</td>\n",
              "      <td>19.0</td>\n",
              "      <td>No</td>\n",
              "      <td>Yes</td>\n",
              "      <td>NaN</td>\n",
              "      <td>Medium</td>\n",
              "      <td>4</td>\n",
              "      <td>9.0</td>\n",
              "    </tr>\n",
              "    <tr>\n",
              "      <th>2</th>\n",
              "      <td>S1002</td>\n",
              "      <td>Ahmed</td>\n",
              "      <td>Jones</td>\n",
              "      <td>student2@university.com</td>\n",
              "      <td>Male</td>\n",
              "      <td>24</td>\n",
              "      <td>Business</td>\n",
              "      <td>57.19</td>\n",
              "      <td>67.05</td>\n",
              "      <td>93.68</td>\n",
              "      <td>...</td>\n",
              "      <td>73.79</td>\n",
              "      <td>70.30</td>\n",
              "      <td>D</td>\n",
              "      <td>20.7</td>\n",
              "      <td>No</td>\n",
              "      <td>Yes</td>\n",
              "      <td>Master's</td>\n",
              "      <td>Low</td>\n",
              "      <td>6</td>\n",
              "      <td>6.2</td>\n",
              "    </tr>\n",
              "    <tr>\n",
              "      <th>3</th>\n",
              "      <td>S1003</td>\n",
              "      <td>Omar</td>\n",
              "      <td>Williams</td>\n",
              "      <td>student3@university.com</td>\n",
              "      <td>Female</td>\n",
              "      <td>24</td>\n",
              "      <td>Mathematics</td>\n",
              "      <td>95.15</td>\n",
              "      <td>47.79</td>\n",
              "      <td>80.63</td>\n",
              "      <td>...</td>\n",
              "      <td>92.12</td>\n",
              "      <td>61.63</td>\n",
              "      <td>A</td>\n",
              "      <td>24.8</td>\n",
              "      <td>Yes</td>\n",
              "      <td>Yes</td>\n",
              "      <td>High School</td>\n",
              "      <td>High</td>\n",
              "      <td>3</td>\n",
              "      <td>6.7</td>\n",
              "    </tr>\n",
              "    <tr>\n",
              "      <th>4</th>\n",
              "      <td>S1004</td>\n",
              "      <td>John</td>\n",
              "      <td>Smith</td>\n",
              "      <td>student4@university.com</td>\n",
              "      <td>Female</td>\n",
              "      <td>23</td>\n",
              "      <td>CS</td>\n",
              "      <td>54.18</td>\n",
              "      <td>46.59</td>\n",
              "      <td>78.89</td>\n",
              "      <td>...</td>\n",
              "      <td>68.42</td>\n",
              "      <td>66.13</td>\n",
              "      <td>F</td>\n",
              "      <td>15.4</td>\n",
              "      <td>Yes</td>\n",
              "      <td>Yes</td>\n",
              "      <td>High School</td>\n",
              "      <td>High</td>\n",
              "      <td>2</td>\n",
              "      <td>7.1</td>\n",
              "    </tr>\n",
              "    <tr>\n",
              "      <th>...</th>\n",
              "      <td>...</td>\n",
              "      <td>...</td>\n",
              "      <td>...</td>\n",
              "      <td>...</td>\n",
              "      <td>...</td>\n",
              "      <td>...</td>\n",
              "      <td>...</td>\n",
              "      <td>...</td>\n",
              "      <td>...</td>\n",
              "      <td>...</td>\n",
              "      <td>...</td>\n",
              "      <td>...</td>\n",
              "      <td>...</td>\n",
              "      <td>...</td>\n",
              "      <td>...</td>\n",
              "      <td>...</td>\n",
              "      <td>...</td>\n",
              "      <td>...</td>\n",
              "      <td>...</td>\n",
              "      <td>...</td>\n",
              "      <td>...</td>\n",
              "    </tr>\n",
              "    <tr>\n",
              "      <th>4995</th>\n",
              "      <td>S5995</td>\n",
              "      <td>Ahmed</td>\n",
              "      <td>Jones</td>\n",
              "      <td>student4995@university.com</td>\n",
              "      <td>Male</td>\n",
              "      <td>19</td>\n",
              "      <td>Business</td>\n",
              "      <td>NaN</td>\n",
              "      <td>82.15</td>\n",
              "      <td>60.33</td>\n",
              "      <td>...</td>\n",
              "      <td>58.42</td>\n",
              "      <td>85.21</td>\n",
              "      <td>D</td>\n",
              "      <td>25.5</td>\n",
              "      <td>No</td>\n",
              "      <td>Yes</td>\n",
              "      <td>High School</td>\n",
              "      <td>Low</td>\n",
              "      <td>10</td>\n",
              "      <td>8.3</td>\n",
              "    </tr>\n",
              "    <tr>\n",
              "      <th>4996</th>\n",
              "      <td>S5996</td>\n",
              "      <td>Emma</td>\n",
              "      <td>Brown</td>\n",
              "      <td>student4996@university.com</td>\n",
              "      <td>Male</td>\n",
              "      <td>19</td>\n",
              "      <td>Business</td>\n",
              "      <td>65.11</td>\n",
              "      <td>86.31</td>\n",
              "      <td>49.80</td>\n",
              "      <td>...</td>\n",
              "      <td>60.87</td>\n",
              "      <td>95.96</td>\n",
              "      <td>C</td>\n",
              "      <td>5.0</td>\n",
              "      <td>No</td>\n",
              "      <td>Yes</td>\n",
              "      <td>NaN</td>\n",
              "      <td>Medium</td>\n",
              "      <td>4</td>\n",
              "      <td>4.0</td>\n",
              "    </tr>\n",
              "    <tr>\n",
              "      <th>4997</th>\n",
              "      <td>S5997</td>\n",
              "      <td>John</td>\n",
              "      <td>Brown</td>\n",
              "      <td>student4997@university.com</td>\n",
              "      <td>Female</td>\n",
              "      <td>24</td>\n",
              "      <td>CS</td>\n",
              "      <td>87.54</td>\n",
              "      <td>63.55</td>\n",
              "      <td>64.21</td>\n",
              "      <td>...</td>\n",
              "      <td>82.65</td>\n",
              "      <td>54.25</td>\n",
              "      <td>A</td>\n",
              "      <td>24.8</td>\n",
              "      <td>Yes</td>\n",
              "      <td>No</td>\n",
              "      <td>High School</td>\n",
              "      <td>Medium</td>\n",
              "      <td>4</td>\n",
              "      <td>6.3</td>\n",
              "    </tr>\n",
              "    <tr>\n",
              "      <th>4998</th>\n",
              "      <td>S5998</td>\n",
              "      <td>Sara</td>\n",
              "      <td>Davis</td>\n",
              "      <td>student4998@university.com</td>\n",
              "      <td>Male</td>\n",
              "      <td>23</td>\n",
              "      <td>CS</td>\n",
              "      <td>92.56</td>\n",
              "      <td>79.79</td>\n",
              "      <td>94.28</td>\n",
              "      <td>...</td>\n",
              "      <td>94.29</td>\n",
              "      <td>55.84</td>\n",
              "      <td>A</td>\n",
              "      <td>16.1</td>\n",
              "      <td>Yes</td>\n",
              "      <td>Yes</td>\n",
              "      <td>Bachelor's</td>\n",
              "      <td>Low</td>\n",
              "      <td>1</td>\n",
              "      <td>8.4</td>\n",
              "    </tr>\n",
              "    <tr>\n",
              "      <th>4999</th>\n",
              "      <td>S5999</td>\n",
              "      <td>Maria</td>\n",
              "      <td>Brown</td>\n",
              "      <td>student4999@university.com</td>\n",
              "      <td>Female</td>\n",
              "      <td>21</td>\n",
              "      <td>Engineering</td>\n",
              "      <td>83.92</td>\n",
              "      <td>83.24</td>\n",
              "      <td>53.47</td>\n",
              "      <td>...</td>\n",
              "      <td>69.25</td>\n",
              "      <td>77.86</td>\n",
              "      <td>F</td>\n",
              "      <td>29.2</td>\n",
              "      <td>No</td>\n",
              "      <td>Yes</td>\n",
              "      <td>PhD</td>\n",
              "      <td>Low</td>\n",
              "      <td>2</td>\n",
              "      <td>6.1</td>\n",
              "    </tr>\n",
              "  </tbody>\n",
              "</table>\n",
              "<p>5000 rows × 23 columns</p>\n",
              "</div>"
            ],
            "text/plain": [
              "     Student_ID First_Name Last_Name                       Email  Gender  Age  \\\n",
              "0         S1000       Omar  Williams     student0@university.com  Female   22   \n",
              "1         S1001      Maria     Brown     student1@university.com    Male   18   \n",
              "2         S1002      Ahmed     Jones     student2@university.com    Male   24   \n",
              "3         S1003       Omar  Williams     student3@university.com  Female   24   \n",
              "4         S1004       John     Smith     student4@university.com  Female   23   \n",
              "...         ...        ...       ...                         ...     ...  ...   \n",
              "4995      S5995      Ahmed     Jones  student4995@university.com    Male   19   \n",
              "4996      S5996       Emma     Brown  student4996@university.com    Male   19   \n",
              "4997      S5997       John     Brown  student4997@university.com  Female   24   \n",
              "4998      S5998       Sara     Davis  student4998@university.com    Male   23   \n",
              "4999      S5999      Maria     Brown  student4999@university.com  Female   21   \n",
              "\n",
              "       Department  Attendance (%)  Midterm_Score  Final_Score  ...  \\\n",
              "0     Engineering           52.29          55.03        57.82  ...   \n",
              "1     Engineering           97.27          97.23        45.80  ...   \n",
              "2        Business           57.19          67.05        93.68  ...   \n",
              "3     Mathematics           95.15          47.79        80.63  ...   \n",
              "4              CS           54.18          46.59        78.89  ...   \n",
              "...           ...             ...            ...          ...  ...   \n",
              "4995     Business             NaN          82.15        60.33  ...   \n",
              "4996     Business           65.11          86.31        49.80  ...   \n",
              "4997           CS           87.54          63.55        64.21  ...   \n",
              "4998           CS           92.56          79.79        94.28  ...   \n",
              "4999  Engineering           83.92          83.24        53.47  ...   \n",
              "\n",
              "      Projects_Score  Total_Score  Grade  Study_Hours_per_Week  \\\n",
              "0              85.90        56.09      F                   6.2   \n",
              "1              55.65        50.64      A                  19.0   \n",
              "2              73.79        70.30      D                  20.7   \n",
              "3              92.12        61.63      A                  24.8   \n",
              "4              68.42        66.13      F                  15.4   \n",
              "...              ...          ...    ...                   ...   \n",
              "4995           58.42        85.21      D                  25.5   \n",
              "4996           60.87        95.96      C                   5.0   \n",
              "4997           82.65        54.25      A                  24.8   \n",
              "4998           94.29        55.84      A                  16.1   \n",
              "4999           69.25        77.86      F                  29.2   \n",
              "\n",
              "      Extracurricular_Activities Internet_Access_at_Home  \\\n",
              "0                             No                     Yes   \n",
              "1                             No                     Yes   \n",
              "2                             No                     Yes   \n",
              "3                            Yes                     Yes   \n",
              "4                            Yes                     Yes   \n",
              "...                          ...                     ...   \n",
              "4995                          No                     Yes   \n",
              "4996                          No                     Yes   \n",
              "4997                         Yes                      No   \n",
              "4998                         Yes                     Yes   \n",
              "4999                          No                     Yes   \n",
              "\n",
              "      Parent_Education_Level Family_Income_Level Stress_Level (1-10)  \\\n",
              "0                High School              Medium                   5   \n",
              "1                        NaN              Medium                   4   \n",
              "2                   Master's                 Low                   6   \n",
              "3                High School                High                   3   \n",
              "4                High School                High                   2   \n",
              "...                      ...                 ...                 ...   \n",
              "4995             High School                 Low                  10   \n",
              "4996                     NaN              Medium                   4   \n",
              "4997             High School              Medium                   4   \n",
              "4998              Bachelor's                 Low                   1   \n",
              "4999                     PhD                 Low                   2   \n",
              "\n",
              "     Sleep_Hours_per_Night  \n",
              "0                      4.7  \n",
              "1                      9.0  \n",
              "2                      6.2  \n",
              "3                      6.7  \n",
              "4                      7.1  \n",
              "...                    ...  \n",
              "4995                   8.3  \n",
              "4996                   4.0  \n",
              "4997                   6.3  \n",
              "4998                   8.4  \n",
              "4999                   6.1  \n",
              "\n",
              "[5000 rows x 23 columns]"
            ]
          },
          "execution_count": 3,
          "metadata": {},
          "output_type": "execute_result"
        }
      ],
      "source": [
        "#Type your code here\n",
        "data = pd.read_csv('Students_Grading_Dataset.csv')\n",
        "data"
      ]
    },
    {
      "cell_type": "markdown",
      "metadata": {
        "id": "KkPem5eWL2UP"
      },
      "source": [
        "# **3. Data Splitting**"
      ]
    },
    {
      "cell_type": "markdown",
      "metadata": {
        "id": "YYj1rl_JNI9Y"
      },
      "source": [
        "Tahap Data Splitting bertujuan untuk memisahkan dataset menjadi dua bagian: data latih (training set) dan data uji (test set)."
      ]
    },
    {
      "cell_type": "code",
      "execution_count": null,
      "metadata": {
        "id": "OubAW-7ONKVj"
      },
      "outputs": [],
      "source": [
        "#Type your code here"
      ]
    },
    {
      "cell_type": "markdown",
      "metadata": {
        "id": "IVPbB03CMhTT"
      },
      "source": [
        "# **4. Membangun Model Klasifikasi**\n"
      ]
    },
    {
      "cell_type": "markdown",
      "metadata": {
        "id": "Ned1pL9zMmBK"
      },
      "source": [
        "## **a. Membangun Model Klasifikasi**"
      ]
    },
    {
      "cell_type": "markdown",
      "metadata": {
        "id": "WAWzPOE4Nkti"
      },
      "source": [
        "Setelah memilih algoritma klasifikasi yang sesuai, langkah selanjutnya adalah melatih model menggunakan data latih.\n",
        "\n",
        "Berikut adalah rekomendasi tahapannya.\n",
        "1. Pilih algoritma klasifikasi yang sesuai, seperti Logistic Regression, Decision Tree, Random Forest, atau K-Nearest Neighbors (KNN).\n",
        "2. Latih model menggunakan data latih."
      ]
    },
    {
      "cell_type": "code",
      "execution_count": null,
      "metadata": {
        "id": "4JYxBe87NLDk"
      },
      "outputs": [],
      "source": [
        "#Type your code here"
      ]
    },
    {
      "cell_type": "markdown",
      "metadata": {
        "id": "seYoHNY3XU1y"
      },
      "source": [
        "Tulis narasi atau penjelasan algoritma yang Anda gunakan."
      ]
    },
    {
      "cell_type": "markdown",
      "metadata": {
        "id": "ergzChZFEL-O"
      },
      "source": [
        "## **b. Evaluasi Model Klasifikasi**"
      ]
    },
    {
      "cell_type": "markdown",
      "metadata": {
        "id": "zOm68u-7NpLT"
      },
      "source": [
        "Berikut adalah **rekomendasi** tahapannya.\n",
        "1. Lakukan prediksi menggunakan data uji.\n",
        "2. Hitung metrik evaluasi seperti Accuracy dan F1-Score (Opsional: Precision dan Recall).\n",
        "3. Buat confusion matrix untuk melihat detail prediksi benar dan salah."
      ]
    },
    {
      "cell_type": "code",
      "execution_count": null,
      "metadata": {
        "id": "tMq4QAssNLip"
      },
      "outputs": [],
      "source": [
        "#Type your code here"
      ]
    },
    {
      "cell_type": "markdown",
      "metadata": {
        "id": "H4_9OwrsXZlz"
      },
      "source": [
        "Tulis hasil evaluasi algoritma yang digunakan, jika Anda menggunakan 2 algoritma, maka bandingkan hasilnya."
      ]
    },
    {
      "cell_type": "markdown",
      "metadata": {
        "id": "ph9yIYDXEPuB"
      },
      "source": [
        "## **c. Tuning Model Klasifikasi (Optional)**"
      ]
    },
    {
      "cell_type": "markdown",
      "metadata": {
        "id": "-Bikx3LINv5e"
      },
      "source": [
        "Gunakan GridSearchCV, RandomizedSearchCV, atau metode lainnya untuk mencari kombinasi hyperparameter terbaik"
      ]
    },
    {
      "cell_type": "code",
      "execution_count": null,
      "metadata": {
        "id": "winbFzb8NL95"
      },
      "outputs": [],
      "source": [
        "#Type your code here"
      ]
    },
    {
      "cell_type": "markdown",
      "metadata": {
        "id": "hE7pqlEPEYzI"
      },
      "source": [
        "## **d. Evaluasi Model Klasifikasi setelah Tuning (Optional)**"
      ]
    },
    {
      "cell_type": "markdown",
      "metadata": {
        "id": "feaPESoeN0zz"
      },
      "source": [
        "Berikut adalah rekomendasi tahapannya.\n",
        "1. Gunakan model dengan hyperparameter terbaik.\n",
        "2. Hitung ulang metrik evaluasi untuk melihat apakah ada peningkatan performa."
      ]
    },
    {
      "cell_type": "code",
      "execution_count": null,
      "metadata": {
        "id": "HTXZRvEeNMb1"
      },
      "outputs": [],
      "source": [
        "#Type your code here"
      ]
    },
    {
      "cell_type": "markdown",
      "metadata": {
        "id": "ZRsOdm4uEgAW"
      },
      "source": [
        "## **e. Analisis Hasil Evaluasi Model Klasifikasi**"
      ]
    },
    {
      "cell_type": "markdown",
      "metadata": {
        "id": "Hm3BhSi6N4_l"
      },
      "source": [
        "Berikut adalah **rekomendasi** tahapannya.\n",
        "1. Bandingkan hasil evaluasi sebelum dan setelah tuning (jika dilakukan).\n",
        "2. Identifikasi kelemahan model, seperti:\n",
        "  - Precision atau Recall rendah untuk kelas tertentu.\n",
        "  - Apakah model mengalami overfitting atau underfitting?\n",
        "3. Berikan rekomendasi tindakan lanjutan, seperti mengumpulkan data tambahan atau mencoba algoritma lain jika hasil belum memuaskan."
      ]
    }
  ],
  "metadata": {
    "colab": {
      "provenance": []
    },
    "kernelspec": {
      "display_name": ".venv",
      "language": "python",
      "name": "python3"
    },
    "language_info": {
      "codemirror_mode": {
        "name": "ipython",
        "version": 3
      },
      "file_extension": ".py",
      "mimetype": "text/x-python",
      "name": "python",
      "nbconvert_exporter": "python",
      "pygments_lexer": "ipython3",
      "version": "3.12.6"
    }
  },
  "nbformat": 4,
  "nbformat_minor": 0
}
